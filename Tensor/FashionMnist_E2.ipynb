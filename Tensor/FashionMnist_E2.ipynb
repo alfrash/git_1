{
 "metadata": {
  "language_info": {
   "codemirror_mode": {
    "name": "ipython",
    "version": 3
   },
   "file_extension": ".py",
   "mimetype": "text/x-python",
   "name": "python",
   "nbconvert_exporter": "python",
   "pygments_lexer": "ipython3",
   "version": "3.8.3-final"
  },
  "orig_nbformat": 2,
  "kernelspec": {
   "name": "python3",
   "display_name": "Python 3"
  }
 },
 "nbformat": 4,
 "nbformat_minor": 2,
 "cells": [
  {
   "cell_type": "code",
   "execution_count": 2,
   "metadata": {
    "tags": []
   },
   "outputs": [
    {
     "output_type": "stream",
     "name": "stdout",
     "text": "2.3.0\nEpoch 1/5\n1875/1875 [==============================] - 7s 4ms/step - loss: 0.1830\nEpoch 2/5\n1875/1875 [==============================] - 7s 4ms/step - loss: 0.0753\nEpoch 3/5\n1875/1875 [==============================] - 7s 4ms/step - loss: 0.0485\nEpoch 4/5\n1875/1875 [==============================] - 7s 4ms/step - loss: 0.0347\nEpoch 5/5\n1875/1875 [==============================] - 6s 3ms/step - loss: 0.0261\n313/313 [==============================] - 1s 2ms/step - loss: 0.0795\n[7.5442413e-12 2.0975051e-10 4.5387366e-10 3.2465025e-06 5.6338397e-14\n 2.9566294e-11 1.3901591e-16 9.9999666e-01 7.6221101e-09 1.5882988e-07]\n7\n"
    }
   ],
   "source": [
    "import tensorflow as tf\n",
    "print(tf.__version__)\n",
    "\n",
    "mnist = tf.keras.datasets.mnist\n",
    "\n",
    "(training_images, training_labels) ,  (test_images, test_labels) = mnist.load_data()\n",
    "\n",
    "training_images = training_images/255.0\n",
    "test_images = test_images/255.0\n",
    "\n",
    "model = tf.keras.models.Sequential([tf.keras.layers.Flatten(),\n",
    "                                    tf.keras.layers.Dense(1024, activation=tf.nn.relu),\n",
    "                                    tf.keras.layers.Dense(10, activation=tf.nn.softmax)])\n",
    "\n",
    "model.compile(optimizer = 'adam',\n",
    "              loss = 'sparse_categorical_crossentropy')\n",
    "\n",
    "model.fit(training_images, training_labels, epochs=5)\n",
    "\n",
    "model.evaluate(test_images, test_labels)\n",
    "\n",
    "classifications = model.predict(test_images)\n",
    "\n",
    "print(classifications[0])\n",
    "print(test_labels[0])"
   ]
  },
  {
   "cell_type": "code",
   "execution_count": 4,
   "metadata": {
    "tags": []
   },
   "outputs": [
    {
     "output_type": "stream",
     "name": "stdout",
     "text": "2.3.0\nEpoch 1/5\n1875/1875 [==============================] - 6s 3ms/step - loss: 0.1861\nEpoch 2/5\n1875/1875 [==============================] - 5s 3ms/step - loss: 0.0799\nEpoch 3/5\n1875/1875 [==============================] - 5s 3ms/step - loss: 0.0557\nEpoch 4/5\n1875/1875 [==============================] - 5s 3ms/step - loss: 0.0413\nEpoch 5/5\n1875/1875 [==============================] - 5s 3ms/step - loss: 0.0323\n313/313 [==============================] - 0s 1ms/step - loss: 0.0819\n[4.3322607e-12 8.6964552e-10 5.7926379e-09 4.6466525e-07 4.0083830e-12\n 2.6601509e-11 7.8408840e-15 9.9999869e-01 2.4701313e-10 7.9691335e-07]\n7\n"
    }
   ],
   "source": [
    "import tensorflow as tf\n",
    "print(tf.__version__)\n",
    "\n",
    "mnist = tf.keras.datasets.mnist\n",
    "\n",
    "(training_images, training_labels) ,  (test_images, test_labels) = mnist.load_data()\n",
    "\n",
    "training_images = training_images/255.0\n",
    "test_images = test_images/255.0\n",
    "\n",
    "model = tf.keras.models.Sequential([tf.keras.layers.Flatten(),\n",
    "                                    tf.keras.layers.Dense(512, activation=tf.nn.relu),\n",
    "                                    tf.keras.layers.Dense(256, activation=tf.nn.relu),\n",
    "                                    tf.keras.layers.Dense(10, activation=tf.nn.softmax)])\n",
    "\n",
    "model.compile(optimizer = 'adam',\n",
    "              loss = 'sparse_categorical_crossentropy')\n",
    "\n",
    "model.fit(training_images, training_labels, epochs=5)\n",
    "\n",
    "model.evaluate(test_images, test_labels)\n",
    "\n",
    "classifications = model.predict(test_images)\n",
    "\n",
    "print(classifications[0])\n",
    "print(test_labels[0])"
   ]
  },
  {
   "cell_type": "code",
   "execution_count": 5,
   "metadata": {
    "tags": []
   },
   "outputs": [
    {
     "output_type": "stream",
     "name": "stdout",
     "text": "2.3.0\nEpoch 1/15\n1875/1875 [==============================] - 3s 1ms/step - loss: 0.2663\nEpoch 2/15\n1875/1875 [==============================] - 3s 2ms/step - loss: 0.1176\nEpoch 3/15\n1875/1875 [==============================] - 3s 1ms/step - loss: 0.0802\nEpoch 4/15\n1875/1875 [==============================] - 3s 1ms/step - loss: 0.0599\nEpoch 5/15\n1875/1875 [==============================] - 2s 1ms/step - loss: 0.0453\nEpoch 6/15\n1875/1875 [==============================] - 2s 1ms/step - loss: 0.0362\nEpoch 7/15\n1875/1875 [==============================] - 2s 1ms/step - loss: 0.0294\nEpoch 8/15\n1875/1875 [==============================] - 2s 1ms/step - loss: 0.0237\nEpoch 9/15\n1875/1875 [==============================] - 2s 1ms/step - loss: 0.0184\nEpoch 10/15\n1875/1875 [==============================] - 2s 1ms/step - loss: 0.0163\nEpoch 11/15\n1875/1875 [==============================] - 2s 1ms/step - loss: 0.0138\nEpoch 12/15\n1875/1875 [==============================] - 2s 1ms/step - loss: 0.0116\nEpoch 13/15\n1875/1875 [==============================] - 2s 1ms/step - loss: 0.0100\nEpoch 14/15\n1875/1875 [==============================] - 2s 1ms/step - loss: 0.0097\nEpoch 15/15\n1875/1875 [==============================] - 2s 1ms/step - loss: 0.0087\n313/313 [==============================] - 0s 1ms/step - loss: 0.0935\n[8.6485410e-15 2.6617948e-14 9.8274711e-10 3.4704073e-08 4.0454463e-20\n 8.2742560e-20 3.5156243e-23 1.0000000e+00 6.3782599e-12 3.6293654e-13]\n7\n"
    }
   ],
   "source": [
    "import tensorflow as tf\n",
    "print(tf.__version__)\n",
    "\n",
    "mnist = tf.keras.datasets.mnist\n",
    "\n",
    "(training_images, training_labels) ,  (test_images, test_labels) = mnist.load_data()\n",
    "\n",
    "training_images = training_images/255.0\n",
    "test_images = test_images/255.0\n",
    "\n",
    "model = tf.keras.models.Sequential([tf.keras.layers.Flatten(),\n",
    "                                    tf.keras.layers.Dense(128, activation=tf.nn.relu),\n",
    "                                    tf.keras.layers.Dense(10, activation=tf.nn.softmax)])\n",
    "\n",
    "model.compile(optimizer = 'adam',\n",
    "              loss = 'sparse_categorical_crossentropy')\n",
    "\n",
    "model.fit(training_images, training_labels, epochs=15)\n",
    "\n",
    "model.evaluate(test_images, test_labels)\n",
    "\n",
    "classifications = model.predict(test_images)\n",
    "\n",
    "print(classifications[34])\n",
    "print(test_labels[34])"
   ]
  },
  {
   "cell_type": "code",
   "execution_count": 6,
   "metadata": {
    "tags": []
   },
   "outputs": [
    {
     "output_type": "stream",
     "name": "stdout",
     "text": "2.3.0\nEpoch 1/5\n1875/1875 [==============================] - 4s 2ms/step - loss: 0.4748\nEpoch 2/5\n1861/1875 [============================>.] - ETA: 0s - loss: 0.3575\nReached 60% accuracy so cancelling training!\n1875/1875 [==============================] - 4s 2ms/step - loss: 0.3570\n"
    },
    {
     "output_type": "execute_result",
     "data": {
      "text/plain": "<tensorflow.python.keras.callbacks.History at 0x7fbd10fc58e0>"
     },
     "metadata": {},
     "execution_count": 6
    }
   ],
   "source": [
    "import tensorflow as tf\n",
    "print(tf.__version__)\n",
    "\n",
    "class myCallback(tf.keras.callbacks.Callback):\n",
    "  def on_epoch_end(self, epoch, logs={}):\n",
    "    if(logs.get('loss')<0.4):\n",
    "      print(\"\\nReached 60% accuracy so cancelling training!\")\n",
    "      self.model.stop_training = True\n",
    "\n",
    "callbacks = myCallback()\n",
    "mnist = tf.keras.datasets.fashion_mnist\n",
    "(training_images, training_labels), (test_images, test_labels) = mnist.load_data()\n",
    "training_images=training_images/255.0\n",
    "test_images=test_images/255.0\n",
    "model = tf.keras.models.Sequential([\n",
    "  tf.keras.layers.Flatten(),\n",
    "  tf.keras.layers.Dense(512, activation=tf.nn.relu),\n",
    "  tf.keras.layers.Dense(10, activation=tf.nn.softmax)\n",
    "])\n",
    "model.compile(optimizer='adam', loss='sparse_categorical_crossentropy')\n",
    "model.fit(training_images, training_labels, epochs=5, callbacks=[callbacks])"
   ]
  },
  {
   "cell_type": "code",
   "execution_count": null,
   "metadata": {},
   "outputs": [],
   "source": []
  }
 ]
}